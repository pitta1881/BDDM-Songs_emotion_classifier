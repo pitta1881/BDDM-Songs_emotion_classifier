{
 "cells": [
  {
   "cell_type": "code",
   "execution_count": 1,
   "id": "b769a4ab",
   "metadata": {},
   "outputs": [],
   "source": [
    "import pandas as pd\n",
    "from sklearn.preprocessing import MinMaxScaler\n",
    "from sklearn.preprocessing import MultiLabelBinarizer"
   ]
  },
  {
   "cell_type": "code",
   "execution_count": 2,
   "id": "d4ceee35",
   "metadata": {},
   "outputs": [],
   "source": [
    "df = pd.read_parquet(\"../data/df_step1.parquet\")"
   ]
  },
  {
   "cell_type": "markdown",
   "id": "380188d9",
   "metadata": {},
   "source": [
    "# Preprocesamiento"
   ]
  },
  {
   "cell_type": "markdown",
   "id": "22b3e06b",
   "metadata": {},
   "source": [
    "### Datos Faltantes"
   ]
  },
  {
   "cell_type": "code",
   "execution_count": 3,
   "id": "944aa25c",
   "metadata": {},
   "outputs": [
    {
     "name": "stdout",
     "output_type": "stream",
     "text": [
      "Cantidad de valores nulos por columna (solo las que tienen nulos): Time signature    8\n",
      "dtype: int64\n"
     ]
    },
    {
     "name": "stderr",
     "output_type": "stream",
     "text": [
      "C:\\Users\\pitta\\AppData\\Local\\Temp\\ipykernel_27624\\1925692169.py:7: FutureWarning: A value is trying to be set on a copy of a DataFrame or Series through chained assignment using an inplace method.\n",
      "The behavior will change in pandas 3.0. This inplace method will never work because the intermediate object on which we are setting values always behaves as a copy.\n",
      "\n",
      "For example, when doing 'df[col].method(value, inplace=True)', try using 'df.method({col: value}, inplace=True)' or df[col] = df[col].method(value) instead, to perform the operation inplace on the original object.\n",
      "\n",
      "\n",
      "  df['Time signature'].fillna(mode_time_sig, inplace=True)\n"
     ]
    }
   ],
   "source": [
    "# Nulos\n",
    "null_counts = df.isnull().sum()\n",
    "print(\"Cantidad de valores nulos por columna (solo las que tienen nulos):\", null_counts[null_counts > 0])\n",
    "\n",
    "# Reemplazar valores nulos en 'Time signature' con la moda\n",
    "mode_time_sig = df['Time signature'].mode()[0]\n",
    "df['Time signature'].fillna(mode_time_sig, inplace=True)"
   ]
  },
  {
   "cell_type": "markdown",
   "id": "789b0e7f",
   "metadata": {},
   "source": [
    "#### Duplicados"
   ]
  },
  {
   "cell_type": "code",
   "execution_count": 4,
   "id": "cd590758",
   "metadata": {},
   "outputs": [
    {
     "name": "stdout",
     "output_type": "stream",
     "text": [
      "Cantidad de duplicados eliminados: 53442\n"
     ]
    }
   ],
   "source": [
    "# Analizar duplicados\n",
    "duplicates = df.duplicated().sum()\n",
    "df.drop_duplicates(inplace=True)\n",
    "print(f\"Cantidad de duplicados eliminados: {duplicates}\")"
   ]
  },
  {
   "cell_type": "markdown",
   "id": "57b16de8",
   "metadata": {},
   "source": [
    "#### Lyrics con menos de 100 caracteres"
   ]
  },
  {
   "cell_type": "code",
   "execution_count": 5,
   "id": "7c0ac8c9",
   "metadata": {},
   "outputs": [
    {
     "name": "stdout",
     "output_type": "stream",
     "text": [
      "Cantidad de letras con menos de 10 caracteres: 0\n"
     ]
    }
   ],
   "source": [
    "# Analizar columna Lyrics con largo de texto menor a 100 caracteres\n",
    "lyrics_length = df['Lyrics'].str.len()\n",
    "short_lyrics_count = (lyrics_length < 100).sum()\n",
    "print(f\"Cantidad de letras con menos de 10 caracteres: {short_lyrics_count}\")"
   ]
  },
  {
   "cell_type": "markdown",
   "id": "612fecdb",
   "metadata": {},
   "source": [
    "### Tratamiento de Multietiqueta"
   ]
  },
  {
   "cell_type": "code",
   "execution_count": 6,
   "id": "2c5ad6cb",
   "metadata": {},
   "outputs": [
    {
     "name": "stdout",
     "output_type": "stream",
     "text": [
      "Géneros únicos: {'pop rock', 'blues', 'grunge', 'hip-hop', 'acoustic', 'drum and bass', 'funk', 'reggaeton', 'classical', 'nu metal', 'dub', 'rap', 'dancehall', 'indie rock', 'chillout', 'new wave', 'country', 'emo rap', 'lo-fi', 'ambient', 'rnb', 'dubstep', 'thrash metal', 'jazz', 'chillwave', 'hard rock', 'melodic death metal', 'christian', 'rock', 'death metal', 'electro', 'indie', 'post-punk', 'screamo', 'industrial', 'house', 'alternative rock', 'post-hardcore', 'soul', 'folk', 'disco', 'britpop', 'trip-hop', 'trance', 'psychedelic', 'electropop', 'indie pop', 'pop', 'punk', 'heavy metal', 'pop punk', 'gospel', 'hip hop', 'punk rock', 'grime', 'black metal', 'latin', 'psychedelic rock', 'reggae', 'techno', 'swing', 'shoegaze', 'garage rock', 'progressive rock', 'dance', 'synthpop', 'classic rock', 'deathcore', 'experimental', 'metal', 'emo', 'worship', 'k-pop', 'soundtrack', 'math rock', 'cloud rap', 'trap', 'hardcore', 'electronic', 'dream pop', 'j-pop', 'alternative', 'power metal', 'alt-country', 'metalcore', 'progressive metal', 'comedy', 'doom metal'}\n",
      "Cantidad de géneros únicos: 88\n"
     ]
    }
   ],
   "source": [
    "# Separar por comas y quitar espacios innecesarios\n",
    "df['Genre_list'] = df['Genre'].str.split(',')\n",
    "\n",
    "# Remover espacios al principio/final de cada etiqueta\n",
    "df['Genre_list'] = df['Genre_list'].apply(lambda genres: [g.strip().lower() for g in genres])\n",
    "\n",
    "# Show unique genres\n",
    "unique_genres = set()\n",
    "for genres in df['Genre_list']:\n",
    "    unique_genres.update(genres)\n",
    "print(\"Géneros únicos:\", unique_genres)\n",
    "print(\"Cantidad de géneros únicos:\", len(unique_genres))\n"
   ]
  },
  {
   "cell_type": "code",
   "execution_count": 7,
   "id": "6cc2f47a",
   "metadata": {},
   "outputs": [],
   "source": [
    "mlb = MultiLabelBinarizer()\n",
    "genre_dummies = pd.DataFrame(mlb.fit_transform(df['Genre_list']),\n",
    "                             columns=mlb.classes_,\n",
    "                             index=df.index)\n",
    "\n",
    "# Concatenar al dataframe original\n",
    "df = pd.concat([df.drop(columns=['Genre', 'Genre_list']), genre_dummies], axis=1)"
   ]
  },
  {
   "cell_type": "code",
   "execution_count": 8,
   "id": "5d568e63",
   "metadata": {},
   "outputs": [
    {
     "data": {
      "text/plain": [
       "hip hop             239871\n",
       "rock                 84086\n",
       "pop                  63288\n",
       "alternative rock     40259\n",
       "indie rock           22742\n",
       "                     ...  \n",
       "alt-country            602\n",
       "worship                449\n",
       "psychedelic            323\n",
       "chillout               149\n",
       "reggaeton               34\n",
       "Length: 88, dtype: int64"
      ]
     },
     "execution_count": 8,
     "metadata": {},
     "output_type": "execute_result"
    }
   ],
   "source": [
    "genre_counts = df[mlb.classes_].sum().sort_values(ascending=False)\n",
    "genre_counts"
   ]
  },
  {
   "cell_type": "markdown",
   "id": "5321184b",
   "metadata": {},
   "source": [
    "### Variables categóricas a numéricas"
   ]
  },
  {
   "cell_type": "code",
   "execution_count": 9,
   "id": "4e1e2319",
   "metadata": {},
   "outputs": [],
   "source": [
    "# One-Hot Encoding\n",
    "df = pd.get_dummies(df, columns=['Key', 'Time signature'], prefix=['Key', 'TS'], dtype=int)"
   ]
  },
  {
   "cell_type": "markdown",
   "id": "bfebe85a",
   "metadata": {},
   "source": [
    "### Normalización"
   ]
  },
  {
   "cell_type": "code",
   "execution_count": 10,
   "id": "1ee71a25",
   "metadata": {},
   "outputs": [
    {
     "data": {
      "text/plain": [
       "Index(['Acousticness', 'Danceability', 'Energy', 'Explicit',\n",
       "       'Good for Driving', 'Good for Exercise', 'Good for Morning Routine',\n",
       "       'Good for Party', 'Good for Relaxation/Meditation', 'Good for Running',\n",
       "       ...\n",
       "       'soul', 'soundtrack', 'swing', 'synthpop', 'techno', 'thrash metal',\n",
       "       'trance', 'trap', 'trip-hop', 'worship'],\n",
       "      dtype='object', length=137)"
      ]
     },
     "execution_count": 10,
     "metadata": {},
     "output_type": "execute_result"
    }
   ],
   "source": [
    "# All columns except Lyrics and emotion\n",
    "num_cols = df.columns.difference(['Lyrics', 'emotion'])\n",
    "num_cols"
   ]
  },
  {
   "cell_type": "code",
   "execution_count": 11,
   "id": "d9451e9d",
   "metadata": {},
   "outputs": [],
   "source": [
    "scaler  = MinMaxScaler()\n",
    "df[num_cols] = scaler .fit_transform(df[num_cols])"
   ]
  },
  {
   "cell_type": "code",
   "execution_count": 12,
   "id": "1846291e",
   "metadata": {},
   "outputs": [
    {
     "data": {
      "text/html": [
       "<div>\n",
       "<style scoped>\n",
       "    .dataframe tbody tr th:only-of-type {\n",
       "        vertical-align: middle;\n",
       "    }\n",
       "\n",
       "    .dataframe tbody tr th {\n",
       "        vertical-align: top;\n",
       "    }\n",
       "\n",
       "    .dataframe thead th {\n",
       "        text-align: right;\n",
       "    }\n",
       "</style>\n",
       "<table border=\"1\" class=\"dataframe\">\n",
       "  <thead>\n",
       "    <tr style=\"text-align: right;\">\n",
       "      <th></th>\n",
       "      <th>Lyrics</th>\n",
       "      <th>Length</th>\n",
       "      <th>emotion</th>\n",
       "      <th>Tempo</th>\n",
       "      <th>Loudness</th>\n",
       "      <th>Explicit</th>\n",
       "      <th>Popularity</th>\n",
       "      <th>Energy</th>\n",
       "      <th>Danceability</th>\n",
       "      <th>Positiveness</th>\n",
       "      <th>...</th>\n",
       "      <th>Key_F# Maj</th>\n",
       "      <th>Key_F# min</th>\n",
       "      <th>Key_G Maj</th>\n",
       "      <th>Key_G min</th>\n",
       "      <th>Key_G# Maj</th>\n",
       "      <th>Key_G# min</th>\n",
       "      <th>TS_1/4</th>\n",
       "      <th>TS_3/4</th>\n",
       "      <th>TS_4/4</th>\n",
       "      <th>TS_5/4</th>\n",
       "    </tr>\n",
       "  </thead>\n",
       "  <tbody>\n",
       "    <tr>\n",
       "      <th>0</th>\n",
       "      <td>Friends told her she was better off at the bot...</td>\n",
       "      <td>0.062237</td>\n",
       "      <td>sadness</td>\n",
       "      <td>0.437870</td>\n",
       "      <td>0.785065</td>\n",
       "      <td>0.0</td>\n",
       "      <td>0.40</td>\n",
       "      <td>0.83</td>\n",
       "      <td>0.698925</td>\n",
       "      <td>0.87</td>\n",
       "      <td>...</td>\n",
       "      <td>0.0</td>\n",
       "      <td>0.0</td>\n",
       "      <td>0.0</td>\n",
       "      <td>0.0</td>\n",
       "      <td>0.0</td>\n",
       "      <td>0.0</td>\n",
       "      <td>0.0</td>\n",
       "      <td>0.0</td>\n",
       "      <td>1.0</td>\n",
       "      <td>0.0</td>\n",
       "    </tr>\n",
       "    <tr>\n",
       "      <th>1</th>\n",
       "      <td>Well I heard it, playing soft From a drunken b...</td>\n",
       "      <td>0.066723</td>\n",
       "      <td>sadness</td>\n",
       "      <td>0.508876</td>\n",
       "      <td>0.805051</td>\n",
       "      <td>0.0</td>\n",
       "      <td>0.42</td>\n",
       "      <td>0.85</td>\n",
       "      <td>0.688172</td>\n",
       "      <td>0.87</td>\n",
       "      <td>...</td>\n",
       "      <td>0.0</td>\n",
       "      <td>0.0</td>\n",
       "      <td>0.0</td>\n",
       "      <td>0.0</td>\n",
       "      <td>0.0</td>\n",
       "      <td>0.0</td>\n",
       "      <td>0.0</td>\n",
       "      <td>0.0</td>\n",
       "      <td>1.0</td>\n",
       "      <td>0.0</td>\n",
       "    </tr>\n",
       "    <tr>\n",
       "      <th>2</th>\n",
       "      <td>Oh my god, did I just say that out loud? Shoul...</td>\n",
       "      <td>0.097000</td>\n",
       "      <td>joy</td>\n",
       "      <td>0.532544</td>\n",
       "      <td>0.799419</td>\n",
       "      <td>0.0</td>\n",
       "      <td>0.29</td>\n",
       "      <td>0.89</td>\n",
       "      <td>0.698925</td>\n",
       "      <td>0.63</td>\n",
       "      <td>...</td>\n",
       "      <td>0.0</td>\n",
       "      <td>0.0</td>\n",
       "      <td>0.0</td>\n",
       "      <td>0.0</td>\n",
       "      <td>0.0</td>\n",
       "      <td>0.0</td>\n",
       "      <td>0.0</td>\n",
       "      <td>0.0</td>\n",
       "      <td>1.0</td>\n",
       "      <td>0.0</td>\n",
       "    </tr>\n",
       "    <tr>\n",
       "      <th>3</th>\n",
       "      <td>[Verse 1] Remember when I called you on the te...</td>\n",
       "      <td>0.061396</td>\n",
       "      <td>joy</td>\n",
       "      <td>0.538462</td>\n",
       "      <td>0.811047</td>\n",
       "      <td>0.0</td>\n",
       "      <td>0.24</td>\n",
       "      <td>0.84</td>\n",
       "      <td>0.774194</td>\n",
       "      <td>0.97</td>\n",
       "      <td>...</td>\n",
       "      <td>0.0</td>\n",
       "      <td>0.0</td>\n",
       "      <td>0.0</td>\n",
       "      <td>0.0</td>\n",
       "      <td>0.0</td>\n",
       "      <td>0.0</td>\n",
       "      <td>0.0</td>\n",
       "      <td>0.0</td>\n",
       "      <td>1.0</td>\n",
       "      <td>0.0</td>\n",
       "    </tr>\n",
       "    <tr>\n",
       "      <th>4</th>\n",
       "      <td>[Verse 1] Calling me like I got something to s...</td>\n",
       "      <td>0.099523</td>\n",
       "      <td>joy</td>\n",
       "      <td>0.544379</td>\n",
       "      <td>0.808321</td>\n",
       "      <td>0.0</td>\n",
       "      <td>0.30</td>\n",
       "      <td>0.71</td>\n",
       "      <td>0.763441</td>\n",
       "      <td>0.70</td>\n",
       "      <td>...</td>\n",
       "      <td>0.0</td>\n",
       "      <td>0.0</td>\n",
       "      <td>0.0</td>\n",
       "      <td>0.0</td>\n",
       "      <td>0.0</td>\n",
       "      <td>0.0</td>\n",
       "      <td>0.0</td>\n",
       "      <td>0.0</td>\n",
       "      <td>1.0</td>\n",
       "      <td>0.0</td>\n",
       "    </tr>\n",
       "  </tbody>\n",
       "</table>\n",
       "<p>5 rows × 139 columns</p>\n",
       "</div>"
      ],
      "text/plain": [
       "                                              Lyrics    Length  emotion  \\\n",
       "0  Friends told her she was better off at the bot...  0.062237  sadness   \n",
       "1  Well I heard it, playing soft From a drunken b...  0.066723  sadness   \n",
       "2  Oh my god, did I just say that out loud? Shoul...  0.097000      joy   \n",
       "3  [Verse 1] Remember when I called you on the te...  0.061396      joy   \n",
       "4  [Verse 1] Calling me like I got something to s...  0.099523      joy   \n",
       "\n",
       "      Tempo  Loudness  Explicit  Popularity  Energy  Danceability  \\\n",
       "0  0.437870  0.785065       0.0        0.40    0.83      0.698925   \n",
       "1  0.508876  0.805051       0.0        0.42    0.85      0.688172   \n",
       "2  0.532544  0.799419       0.0        0.29    0.89      0.698925   \n",
       "3  0.538462  0.811047       0.0        0.24    0.84      0.774194   \n",
       "4  0.544379  0.808321       0.0        0.30    0.71      0.763441   \n",
       "\n",
       "   Positiveness  ...  Key_F# Maj  Key_F# min  Key_G Maj  Key_G min  \\\n",
       "0          0.87  ...         0.0         0.0        0.0        0.0   \n",
       "1          0.87  ...         0.0         0.0        0.0        0.0   \n",
       "2          0.63  ...         0.0         0.0        0.0        0.0   \n",
       "3          0.97  ...         0.0         0.0        0.0        0.0   \n",
       "4          0.70  ...         0.0         0.0        0.0        0.0   \n",
       "\n",
       "   Key_G# Maj  Key_G# min  TS_1/4  TS_3/4  TS_4/4  TS_5/4  \n",
       "0         0.0         0.0     0.0     0.0     1.0     0.0  \n",
       "1         0.0         0.0     0.0     0.0     1.0     0.0  \n",
       "2         0.0         0.0     0.0     0.0     1.0     0.0  \n",
       "3         0.0         0.0     0.0     0.0     1.0     0.0  \n",
       "4         0.0         0.0     0.0     0.0     1.0     0.0  \n",
       "\n",
       "[5 rows x 139 columns]"
      ]
     },
     "execution_count": 12,
     "metadata": {},
     "output_type": "execute_result"
    }
   ],
   "source": [
    "df.head()"
   ]
  },
  {
   "cell_type": "code",
   "execution_count": 13,
   "id": "b430f864",
   "metadata": {},
   "outputs": [],
   "source": [
    "# Guardar el DataFrame modificado en formato eficiente\n",
    "df.to_parquet(\"../data/df_step2.parquet\")"
   ]
  },
  {
   "cell_type": "markdown",
   "id": "facace03",
   "metadata": {},
   "source": [
    "En la proxima iteración de preprocesamiento se hará el embedding de las letras de las canciones utilizando sentence-transformers."
   ]
  }
 ],
 "metadata": {
  "kernelspec": {
   "display_name": ".venv",
   "language": "python",
   "name": "python3"
  },
  "language_info": {
   "codemirror_mode": {
    "name": "ipython",
    "version": 3
   },
   "file_extension": ".py",
   "mimetype": "text/x-python",
   "name": "python",
   "nbconvert_exporter": "python",
   "pygments_lexer": "ipython3",
   "version": "3.11.9"
  }
 },
 "nbformat": 4,
 "nbformat_minor": 5
}
