{
 "cells": [
  {
   "cell_type": "code",
   "execution_count": null,
   "id": "b769a4ab",
   "metadata": {},
   "outputs": [],
   "source": [
    "import pandas as pd"
   ]
  },
  {
   "cell_type": "code",
   "execution_count": 3,
   "id": "d4ceee35",
   "metadata": {},
   "outputs": [],
   "source": [
    "df = pd.read_parquet(\"../data/df_step1.parquet\")"
   ]
  },
  {
   "cell_type": "markdown",
   "id": "380188d9",
   "metadata": {},
   "source": [
    "# Preprocesamiento"
   ]
  },
  {
   "cell_type": "markdown",
   "id": "22b3e06b",
   "metadata": {},
   "source": [
    "### Datos Faltantes"
   ]
  },
  {
   "cell_type": "code",
   "execution_count": 4,
   "id": "944aa25c",
   "metadata": {},
   "outputs": [
    {
     "name": "stdout",
     "output_type": "stream",
     "text": [
      "Cantidad de valores nulos por columna (solo las que tienen nulos): Time signature    8\n",
      "dtype: int64\n"
     ]
    },
    {
     "name": "stderr",
     "output_type": "stream",
     "text": [
      "C:\\Users\\pitta\\AppData\\Local\\Temp\\ipykernel_9408\\1925692169.py:7: FutureWarning: A value is trying to be set on a copy of a DataFrame or Series through chained assignment using an inplace method.\n",
      "The behavior will change in pandas 3.0. This inplace method will never work because the intermediate object on which we are setting values always behaves as a copy.\n",
      "\n",
      "For example, when doing 'df[col].method(value, inplace=True)', try using 'df.method({col: value}, inplace=True)' or df[col] = df[col].method(value) instead, to perform the operation inplace on the original object.\n",
      "\n",
      "\n",
      "  df['Time signature'].fillna(mode_time_sig, inplace=True)\n"
     ]
    }
   ],
   "source": [
    "# Nulos\n",
    "null_counts = df.isnull().sum()\n",
    "print(\"Cantidad de valores nulos por columna (solo las que tienen nulos):\", null_counts[null_counts > 0])\n",
    "\n",
    "# Reemplazar valores nulos en 'Time signature' con la moda\n",
    "mode_time_sig = df['Time signature'].mode()[0]\n",
    "df['Time signature'].fillna(mode_time_sig, inplace=True)"
   ]
  },
  {
   "cell_type": "markdown",
   "id": "789b0e7f",
   "metadata": {},
   "source": [
    "#### Duplicados"
   ]
  },
  {
   "cell_type": "code",
   "execution_count": 5,
   "id": "cd590758",
   "metadata": {},
   "outputs": [
    {
     "name": "stdout",
     "output_type": "stream",
     "text": [
      "Cantidad de duplicados eliminados: 53442\n"
     ]
    }
   ],
   "source": [
    "# Analizar duplicados\n",
    "duplicates = df.duplicated().sum()\n",
    "df.drop_duplicates(inplace=True)\n",
    "print(f\"Cantidad de duplicados eliminados: {duplicates}\")"
   ]
  },
  {
   "cell_type": "markdown",
   "id": "57b16de8",
   "metadata": {},
   "source": [
    "#### Lyrics con menos de 100 caracteres"
   ]
  },
  {
   "cell_type": "code",
   "execution_count": 6,
   "id": "7c0ac8c9",
   "metadata": {},
   "outputs": [
    {
     "name": "stdout",
     "output_type": "stream",
     "text": [
      "Cantidad de letras con menos de 10 caracteres: 0\n"
     ]
    }
   ],
   "source": [
    "# Analizar columna Lyrics con largo de texto menor a 100 caracteres\n",
    "lyrics_length = df['Lyrics'].str.len()\n",
    "short_lyrics_count = (lyrics_length < 100).sum()\n",
    "print(f\"Cantidad de letras con menos de 10 caracteres: {short_lyrics_count}\")"
   ]
  },
  {
   "cell_type": "markdown",
   "id": "e83f485c",
   "metadata": {},
   "source": [
    "#### Transformar todas las columnas a string"
   ]
  },
  {
   "cell_type": "code",
   "execution_count": 8,
   "id": "86720727",
   "metadata": {},
   "outputs": [
    {
     "name": "stdout",
     "output_type": "stream",
     "text": [
      "Lyrics                            object\n",
      "Length                            object\n",
      "emotion                           object\n",
      "Genre                             object\n",
      "Key                               object\n",
      "Tempo                             object\n",
      "Loudness                          object\n",
      "Time signature                    object\n",
      "Explicit                          object\n",
      "Popularity                        object\n",
      "Energy                            object\n",
      "Danceability                      object\n",
      "Positiveness                      object\n",
      "Speechiness                       object\n",
      "Liveness                          object\n",
      "Acousticness                      object\n",
      "Instrumentalness                  object\n",
      "Good for Party                    object\n",
      "Good for Work/Study               object\n",
      "Good for Relaxation/Meditation    object\n",
      "Good for Exercise                 object\n",
      "Good for Running                  object\n",
      "Good for Yoga/Stretching          object\n",
      "Good for Driving                  object\n",
      "Good for Social Gatherings        object\n",
      "Good for Morning Routine          object\n",
      "dtype: object\n"
     ]
    }
   ],
   "source": [
    "# Transformar a string todas las columnas que no lo sean\n",
    "for col in df.columns:\n",
    "    if df[col].dtype != 'object':\n",
    "        df[col] = df[col].astype(str)\n",
    "\n",
    "# Verificar los tipos de datos\n",
    "print(df.dtypes)"
   ]
  },
  {
   "cell_type": "code",
   "execution_count": 9,
   "id": "b430f864",
   "metadata": {},
   "outputs": [],
   "source": [
    "# Guardar el DataFrame modificado en formato eficiente\n",
    "df.to_parquet(\"../data/df_step2.parquet\")"
   ]
  },
  {
   "cell_type": "markdown",
   "id": "facace03",
   "metadata": {},
   "source": [
    "En la proxima iteración de preprocesamiento se hará el embedding de las letras de las canciones utilizando sentence-transformers."
   ]
  }
 ],
 "metadata": {
  "kernelspec": {
   "display_name": ".venv (3.11.9)",
   "language": "python",
   "name": "python3"
  },
  "language_info": {
   "codemirror_mode": {
    "name": "ipython",
    "version": 3
   },
   "file_extension": ".py",
   "mimetype": "text/x-python",
   "name": "python",
   "nbconvert_exporter": "python",
   "pygments_lexer": "ipython3",
   "version": "3.11.9"
  }
 },
 "nbformat": 4,
 "nbformat_minor": 5
}
